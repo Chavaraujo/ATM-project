{
 "cells": [
  {
   "cell_type": "code",
   "execution_count": 4,
   "id": "bda39146-b5a2-4a45-bdd5-e7de7e42fd11",
   "metadata": {},
   "outputs": [
    {
     "name": "stdout",
     "output_type": "stream",
     "text": [
      "Hello! Welcome to the ATM Depot!\n"
     ]
    },
    {
     "name": "stdin",
     "output_type": "stream",
     "text": [
      "Enter account pin:  23\n"
     ]
    },
    {
     "name": "stdout",
     "output_type": "stream",
     "text": [
      "Error! Invalid pin. Try again.\n",
      "Error! Invalid pin. Try again.\n",
      "2024-03-26 00:04:39,422 - Error! Invalid pin. Try again.\n",
      "2024-03-26 00:04:39,422 - ERROR - Error! Invalid pin. Try again.\n"
     ]
    },
    {
     "name": "stdin",
     "output_type": "stream",
     "text": [
      "Enter account pin:  1234\n"
     ]
    },
    {
     "name": "stdout",
     "output_type": "stream",
     "text": [
      "Welcome to your account! \n",
      "Do you want to deposit or withdraw money?\n"
     ]
    },
    {
     "name": "stdin",
     "output_type": "stream",
     "text": [
      "Enter 1 for deposit or 2 for withdraw:  1\n",
      "Enter amount to be deposited:  3000\n"
     ]
    },
    {
     "name": "stdout",
     "output_type": "stream",
     "text": [
      "Amount Deposited: $3000.0\n",
      "Amount Deposited: $3000.0\n",
      "2024-03-26 00:06:15,306 - Amount Deposited: $3000.0\n",
      "2024-03-26 00:06:15,306 - INFO - Amount Deposited: $3000.0\n",
      "Transaction Info:\n",
      "Transaction Info:\n",
      "2024-03-26 00:06:15,310 - Transaction Info:\n",
      "2024-03-26 00:06:15,310 - INFO - Transaction Info:\n",
      "Status: Successful\n",
      "Status: Successful\n",
      "2024-03-26 00:06:15,314 - Status: Successful\n",
      "2024-03-26 00:06:15,314 - INFO - Status: Successful\n",
      "Transaction #921560\n",
      "Transaction #921560\n",
      "2024-03-26 00:06:15,318 - Transaction #921560\n",
      "2024-03-26 00:06:15,318 - INFO - Transaction #921560\n"
     ]
    },
    {
     "name": "stdin",
     "output_type": "stream",
     "text": [
      "Do you want to do another transaction?  y\n",
      "Enter 1 for deposit or 2 for withdraw:  2\n",
      "Enter amount to be withdrawn:  231\n"
     ]
    },
    {
     "name": "stdout",
     "output_type": "stream",
     "text": [
      "You withdrew: $231.0\n",
      "You withdrew: $231.0\n",
      "2024-03-26 00:06:26,885 - You withdrew: $231.0\n",
      "2024-03-26 00:06:26,885 - INFO - You withdrew: $231.0\n",
      "Transaction Info:\n",
      "Transaction Info:\n",
      "2024-03-26 00:06:26,890 - Transaction Info:\n",
      "2024-03-26 00:06:26,890 - INFO - Transaction Info:\n",
      "Status: Successful\n",
      "Status: Successful\n",
      "2024-03-26 00:06:26,895 - Status: Successful\n",
      "2024-03-26 00:06:26,895 - INFO - Status: Successful\n",
      "Transaction #884358\n",
      "Transaction #884358\n",
      "2024-03-26 00:06:26,901 - Transaction #884358\n",
      "2024-03-26 00:06:26,901 - INFO - Transaction #884358\n"
     ]
    },
    {
     "name": "stdin",
     "output_type": "stream",
     "text": [
      "Do you want to do another transaction?  n\n"
     ]
    },
    {
     "name": "stdout",
     "output_type": "stream",
     "text": [
      "Available Balance = $2869.0\n",
      "Available Balance = $2869.0\n",
      "2024-03-26 00:06:35,365 - Available Balance = $2869.0\n",
      "2024-03-26 00:06:35,365 - INFO - Available Balance = $2869.0\n",
      "Thank you for uising ATM Depot!\n"
     ]
    }
   ],
   "source": [
    "import random\n",
    "import logging\n",
    "import sys\n",
    "from datetime import datetime\n",
    "\n",
    "logger = logging.getLogger(__name__)\n",
    "stream_handler = logging.StreamHandler(sys.stdout)\n",
    "stream_formatter = logging.Formatter('%(asctime)s - %(levelname)s - %(message)s')  \n",
    "stream_handler.setFormatter(stream_formatter)\n",
    "\n",
    "error_file_handler = logging.FileHandler('error.log')\n",
    "error_file_formatter = logging.Formatter('%(asctime)s - %(levelname)s - %(message)s')\n",
    "error_file_handler.setFormatter(error_file_formatter)\n",
    "error_file_handler.setLevel(logging.ERROR)\n",
    "\n",
    "info_file_handler = logging.FileHandler('info.log')\n",
    "info_file_formatter = logging.Formatter('%(asctime)s - %(message)s')\n",
    "info_file_handler.setFormatter(info_file_formatter)\n",
    "info_file_handler.setLevel(logging.INFO) \n",
    "\n",
    "stream_handler.setLevel(logging.INFO)\n",
    "\n",
    "logger.addHandler(stream_handler)\n",
    "logger.addHandler(error_file_handler)\n",
    "logger.addHandler(info_file_handler)\n",
    "\n",
    "logger.setLevel(logging.INFO)\n",
    "\n",
    "class BankAccount:\n",
    "    def __init__(self):\n",
    "        self.balance = 100\n",
    "        self.transactionEnd = False\n",
    "        print(\"Hello! Welcome to the ATM Depot!\")\n",
    "\n",
    "    def authenticate(self):\n",
    "        tries = 0\n",
    "        while tries < 3:\n",
    "            pin = int(input(\"Enter account pin: \"))\n",
    "            if pin != 1234:\n",
    "                logger.error(\"Error! Invalid pin. Try again.\")\n",
    "                tries = tries + 1\n",
    "                if tries >= 3:\n",
    "                    logger.error('Number of tries exceeded')\n",
    "                    break\n",
    "            else:\n",
    "                return True\n",
    "        return False\n",
    "\n",
    "    def validate(self):\n",
    "        if self.authenticate():\n",
    "            print('Welcome to your account! \\nDo you want to deposit or withdraw money?')\n",
    "            while True:\n",
    "                choice = int(input('Enter 1 for deposit or 2 for withdraw: '))\n",
    "                if choice == 1:\n",
    "                    self.deposit()\n",
    "                    break\n",
    "                elif choice == 2:\n",
    "                    self.withdraw()\n",
    "                    break\n",
    "                else:\n",
    "                    logger.error('Wrong choice. Try again.')\n",
    "    def newt(self):\n",
    "      while True:\n",
    "        choice = int(input('Enter 1 for deposit or 2 for withdraw: '))\n",
    "        if choice == 1:\n",
    "          self.deposit()\n",
    "          break\n",
    "        elif choice == 2:\n",
    "          self.withdraw()\n",
    "          break\n",
    "        else:\n",
    "          logger.error('Wrong choice. Try again.')\n",
    "\n",
    "    def deposit(self):\n",
    "        try:\n",
    "            amount = float(input(\"Enter amount to be deposited: \"))\n",
    "            if amount < 0:\n",
    "                logger.warning(\"Warning! You entered a negative number to deposit.\")\n",
    "            self.balance += amount\n",
    "            logger.info(\"Amount Deposited: ${amount}\".format(amount=amount))\n",
    "            logger.info(\"Transaction Info:\")\n",
    "            logger.info(\"Status: Successful\")\n",
    "            logger.info(\"Transaction #{number}\".format(number=random.randint(10000, 1000000)))\n",
    "            self.transactionEnd = True\n",
    "        except ValueError:\n",
    "            logger.error(\"Error! You entered a non-number value to deposit.\")\n",
    "            logger.info(\"Transaction Info:\")\n",
    "            logger.info(\"Status: Failed\")\n",
    "            logger.info(\"Transaction #{number}\".format(number=random.randint(10000, 1000000)))\n",
    "\n",
    "    def withdraw(self):\n",
    "        try:\n",
    "            amount = float(input(\"Enter amount to be withdrawn: \"))\n",
    "            if self.balance >= amount:\n",
    "                self.balance -= amount\n",
    "                logger.info(\"You withdrew: ${amount}\".format(amount=amount))\n",
    "                logger.info(\"Transaction Info:\")\n",
    "                logger.info(\"Status: Successful\")\n",
    "                logger.info(\"Transaction #{number}\".format(number=random.randint(10000, 1000000)))\n",
    "                self.transactionEnd = True\n",
    "            else:\n",
    "                logger.error(\"Error! Insufficient balance to complete withdraw.\")\n",
    "                logger.info(\"Transaction Info:\")\n",
    "                logger.info(\"Status: Failed\")\n",
    "                logger.info(\"Transaction #{number}\".format(number=random.randint(10000, 1000000)))\n",
    "        except ValueError:\n",
    "            logger.error(\"Error! You entered a non-number value to withdraw.\")\n",
    "            logger.info(\"Transaction Info:\")\n",
    "            logger.info(\"Status: Failed\")\n",
    "            logger.info(\"Transaction #{number}\".format(number=random.randint(10000, 1000000)))\n",
    "\n",
    "    def display(self):\n",
    "      while True:\n",
    "        if self.transactionEnd:\n",
    "          self.cont = input('Do you want to do another transaction? ').upper()\n",
    "          if self.cont == 'Y':\n",
    "            self.newt()\n",
    "          elif self.cont == 'N':\n",
    "            logger.info(\"Available Balance = ${balance}\".format(balance=self.balance))\n",
    "            print('Thank you for uising ATM Depot!')\n",
    "            break\n",
    "          else:\n",
    "            logger.error('Error, please enter Y or N to proceede')\n",
    "        else:\n",
    "          logger.info('Operation Cancelled!')\n",
    "          break\n",
    "\n",
    "acct = BankAccount()\n",
    "acct.validate()\n",
    "acct.display()"
   ]
  }
 ],
 "metadata": {
  "kernelspec": {
   "display_name": "Python 3 (ipykernel)",
   "language": "python",
   "name": "python3"
  },
  "language_info": {
   "codemirror_mode": {
    "name": "ipython",
    "version": 3
   },
   "file_extension": ".py",
   "mimetype": "text/x-python",
   "name": "python",
   "nbconvert_exporter": "python",
   "pygments_lexer": "ipython3",
   "version": "3.10.12"
  }
 },
 "nbformat": 4,
 "nbformat_minor": 5
}
